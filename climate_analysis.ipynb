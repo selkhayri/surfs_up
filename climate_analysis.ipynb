{
 "cells": [
  {
   "cell_type": "code",
   "execution_count": 1,
   "metadata": {
    "scrolled": true
   },
   "outputs": [],
   "source": [
    "%matplotlib inline\n",
    "from matplotlib import style\n",
    "style.use('fivethirtyeight')\n",
    "import matplotlib.pyplot as plt"
   ]
  },
  {
   "cell_type": "code",
   "execution_count": 2,
   "metadata": {
    "scrolled": true
   },
   "outputs": [],
   "source": [
    "import numpy as np\n",
    "import pandas as pd"
   ]
  },
  {
   "cell_type": "code",
   "execution_count": 3,
   "metadata": {
    "scrolled": true
   },
   "outputs": [],
   "source": [
    "import datetime as dt"
   ]
  },
  {
   "cell_type": "markdown",
   "metadata": {},
   "source": [
    "# Reflect Tables into SQLAlchemy ORM"
   ]
  },
  {
   "cell_type": "code",
   "execution_count": 4,
   "metadata": {
    "scrolled": true
   },
   "outputs": [],
   "source": [
    "# Python SQL toolkit and Object Relational Mapper\n",
    "import sqlalchemy\n",
    "from sqlalchemy.ext.automap import automap_base\n",
    "from sqlalchemy.orm import Session\n",
    "from sqlalchemy import create_engine, func"
   ]
  },
  {
   "cell_type": "code",
   "execution_count": 5,
   "metadata": {
    "scrolled": true
   },
   "outputs": [],
   "source": [
    "# Connect to the database\n",
    "engine = create_engine(\"sqlite:///hawaii.sqlite\")"
   ]
  },
  {
   "cell_type": "code",
   "execution_count": 6,
   "metadata": {
    "scrolled": true
   },
   "outputs": [],
   "source": [
    "# reflect an existing database into a new model\n",
    "Base = automap_base()\n",
    "\n",
    "# reflect the tables\n",
    "Base.prepare(engine, reflect=True)"
   ]
  },
  {
   "cell_type": "code",
   "execution_count": 7,
   "metadata": {
    "scrolled": true
   },
   "outputs": [
    {
     "data": {
      "text/plain": [
       "['measurement', 'station']"
      ]
     },
     "execution_count": 7,
     "metadata": {},
     "output_type": "execute_result"
    }
   ],
   "source": [
    "# We can view all of the classes that automap found\n",
    "Base.classes.keys()"
   ]
  },
  {
   "cell_type": "code",
   "execution_count": 8,
   "metadata": {
    "scrolled": true
   },
   "outputs": [],
   "source": [
    "# Save references to each table\n",
    "Measurement = Base.classes.measurement\n",
    "Station = Base.classes.station"
   ]
  },
  {
   "cell_type": "code",
   "execution_count": 9,
   "metadata": {
    "scrolled": true
   },
   "outputs": [],
   "source": [
    "# Create our session (link) from Python to the DB\n",
    "session = Session(engine)"
   ]
  },
  {
   "cell_type": "markdown",
   "metadata": {},
   "source": [
    "# Exploratory Climate Analysis"
   ]
  },
  {
   "cell_type": "code",
   "execution_count": 10,
   "metadata": {
    "scrolled": true
   },
   "outputs": [
    {
     "data": {
      "image/png": "[encoded data removed]",
      "text/plain": [
       "<Figure size 432x288 with 1 Axes>"
      ]
     },
     "metadata": {},
     "output_type": "display_data"
    }
   ],
   "source": [
    "# Design a query to retrieve the last 12 months of precipitation data and plot the results. \n",
    "#Starting from the last data point in the database. \n",
    "\n",
    "# Calculate the date one year from the last date in data set.\n",
    "prev_year = dt.date(2017, 8, 23) - dt.timedelta(days=365)\n",
    "\n",
    "# Perform a query to retrieve the data and precipitation scores\n",
    "results = session.query(Measurement.date, Measurement.prcp).filter(Measurement.date >= prev_year).all()\n",
    "# print(results)\n",
    "\n",
    "# Save the query results as a Pandas DataFrame and set the index to the date column\n",
    "df = pd.DataFrame(results, columns=['date','precipitation'])\n",
    "df.set_index(df['date'], inplace=True)\n",
    "#print(df.to_string(index=False))\n",
    "\n",
    "# Sort the dataframe by date\n",
    "df = df.sort_index()\n",
    "# print(df.to_string(index=False))\n",
    "\n",
    "# Use Pandas Plotting with Matplotlib to plot the data\n",
    "# plt.bar(df.date,df.precipitation)\n",
    "# plt.xticks(rotation='vertical')\n",
    "df.plot()\n",
    "plt.xticks(rotation='vertical')\n",
    "plt.show()"
   ]
  },
  {
   "cell_type": "code",
   "execution_count": 11,
   "metadata": {
    "scrolled": true
   },
   "outputs": [
    {
     "data": {
      "text/html": [
       "<div>\n",
       "<style scoped>\n",
       "    .dataframe tbody tr th:only-of-type {\n",
       "        vertical-align: middle;\n",
       "    }\n",
       "\n",
       "    .dataframe tbody tr th {\n",
       "        vertical-align: top;\n",
       "    }\n",
       "\n",
       "    .dataframe thead th {\n",
       "        text-align: right;\n",
       "    }\n",
       "</style>\n",
       "<table border=\"1\" class=\"dataframe\">\n",
       "  <thead>\n",
       "    <tr style=\"text-align: right;\">\n",
       "      <th></th>\n",
       "      <th>precipitation</th>\n",
       "    </tr>\n",
       "  </thead>\n",
       "  <tbody>\n",
       "    <tr>\n",
       "      <th>count</th>\n",
       "      <td>2021.000000</td>\n",
       "    </tr>\n",
       "    <tr>\n",
       "      <th>mean</th>\n",
       "      <td>0.177279</td>\n",
       "    </tr>\n",
       "    <tr>\n",
       "      <th>std</th>\n",
       "      <td>0.461190</td>\n",
       "    </tr>\n",
       "    <tr>\n",
       "      <th>min</th>\n",
       "      <td>0.000000</td>\n",
       "    </tr>\n",
       "    <tr>\n",
       "      <th>25%</th>\n",
       "      <td>0.000000</td>\n",
       "    </tr>\n",
       "    <tr>\n",
       "      <th>50%</th>\n",
       "      <td>0.020000</td>\n",
       "    </tr>\n",
       "    <tr>\n",
       "      <th>75%</th>\n",
       "      <td>0.130000</td>\n",
       "    </tr>\n",
       "    <tr>\n",
       "      <th>max</th>\n",
       "      <td>6.700000</td>\n",
       "    </tr>\n",
       "  </tbody>\n",
       "</table>\n",
       "</div>"
      ],
      "text/plain": [
       "       precipitation\n",
       "count    2021.000000\n",
       "mean        0.177279\n",
       "std         0.461190\n",
       "min         0.000000\n",
       "25%         0.000000\n",
       "50%         0.020000\n",
       "75%         0.130000\n",
       "max         6.700000"
      ]
     },
     "execution_count": 11,
     "metadata": {},
     "output_type": "execute_result"
    }
   ],
   "source": [
    "# Use Pandas to calcualte the summary statistics for the precipitation data\n",
    "df.describe()"
   ]
  },
  {
   "cell_type": "code",
   "execution_count": 12,
   "metadata": {
    "scrolled": true
   },
   "outputs": [
    {
     "data": {
      "text/plain": [
       "[(9)]"
      ]
     },
     "execution_count": 12,
     "metadata": {},
     "output_type": "execute_result"
    }
   ],
   "source": [
    "# How many stations are available in this dataset?\n",
    "session.query(func.count(Station.station)).all()"
   ]
  },
  {
   "cell_type": "code",
   "execution_count": 13,
   "metadata": {
    "scrolled": true
   },
   "outputs": [
    {
     "data": {
      "text/plain": [
       "[('USC00519281', 2772),\n",
       " ('USC00519397', 2724),\n",
       " ('USC00513117', 2709),\n",
       " ('USC00519523', 2669),\n",
       " ('USC00516128', 2612),\n",
       " ('USC00514830', 2202),\n",
       " ('USC00511918', 1979),\n",
       " ('USC00517948', 1372),\n",
       " ('USC00518838', 511)]"
      ]
     },
     "execution_count": 13,
     "metadata": {},
     "output_type": "execute_result"
    }
   ],
   "source": [
    "# What are the most active stations?\n",
    "# List the stations and the counts in descending order.\n",
    "session.query(Measurement.station, func.count(Measurement.station)).\\\n",
    "group_by(Measurement.station).order_by(func.count(Measurement.station).desc()).all()"
   ]
  },
  {
   "cell_type": "code",
   "execution_count": 14,
   "metadata": {
    "scrolled": true
   },
   "outputs": [
    {
     "data": {
      "text/plain": [
       "[(54.0, 85.0, 71.66378066378067)]"
      ]
     },
     "execution_count": 14,
     "metadata": {},
     "output_type": "execute_result"
    }
   ],
   "source": [
    "# Using the station id from the previous query, calculate the lowest temperature recorded, \n",
    "# highest temperature recorded, and average temperature most active station?\n",
    "session.query(func.min(Measurement.tobs), func.max(Measurement.tobs), func.avg(Measurement.tobs)).\\\n",
    "filter(Measurement.station == 'USC00519281').all()"
   ]
  },
  {
   "cell_type": "code",
   "execution_count": 15,
   "metadata": {
    "scrolled": true
   },
   "outputs": [
    {
     "name": "stdout",
     "output_type": "stream",
     "text": [
      "[(77.0,), (77.0,), (80.0,), (80.0,), (75.0,), (73.0,), (78.0,), (77.0,), (78.0,), (80.0,), (80.0,), (78.0,), (78.0,), (78.0,), (73.0,), (74.0,), (80.0,), (79.0,), (77.0,), (80.0,), (76.0,), (79.0,), (75.0,), (79.0,), (78.0,), (79.0,), (78.0,), (78.0,), (76.0,), (74.0,), (77.0,), (78.0,), (79.0,), (79.0,), (77.0,), (80.0,), (78.0,), (78.0,), (78.0,), (77.0,), (79.0,), (79.0,), (79.0,), (79.0,), (75.0,), (76.0,), (73.0,), (72.0,), (71.0,), (77.0,), (79.0,), (78.0,), (79.0,), (77.0,), (79.0,), (77.0,), (78.0,), (78.0,), (78.0,), (78.0,), (77.0,), (74.0,), (75.0,), (76.0,), (73.0,), (76.0,), (74.0,), (77.0,), (76.0,), (76.0,), (74.0,), (75.0,), (75.0,), (75.0,), (75.0,), (71.0,), (63.0,), (70.0,), (68.0,), (67.0,), (77.0,), (74.0,), (77.0,), (76.0,), (76.0,), (75.0,), (76.0,), (75.0,), (73.0,), (75.0,), (73.0,), (75.0,), (74.0,), (75.0,), (74.0,), (75.0,), (73.0,), (75.0,), (73.0,), (73.0,), (74.0,), (70.0,), (72.0,), (70.0,), (67.0,), (67.0,), (69.0,), (70.0,), (68.0,), (69.0,), (69.0,), (66.0,), (65.0,), (68.0,), (62.0,), (75.0,), (70.0,), (69.0,), (76.0,), (76.0,), (74.0,), (73.0,), (71.0,), (74.0,), (74.0,), (72.0,), (71.0,), (72.0,), (74.0,), (69.0,), (67.0,), (72.0,), (70.0,), (64.0,), (63.0,), (63.0,), (62.0,), (70.0,), (70.0,), (62.0,), (62.0,), (63.0,), (65.0,), (69.0,), (77.0,), (70.0,), (74.0,), (69.0,), (72.0,), (71.0,), (69.0,), (71.0,), (71.0,), (72.0,), (72.0,), (69.0,), (70.0,), (66.0,), (65.0,), (69.0,), (68.0,), (68.0,), (68.0,), (59.0,), (60.0,), (70.0,), (73.0,), (75.0,), (64.0,), (59.0,), (59.0,), (62.0,), (68.0,), (70.0,), (73.0,), (79.0,), (75.0,), (65.0,), (70.0,), (74.0,), (70.0,), (70.0,), (71.0,), (71.0,), (71.0,), (69.0,), (61.0,), (67.0,), (65.0,), (72.0,), (71.0,), (73.0,), (72.0,), (77.0,), (73.0,), (67.0,), (62.0,), (64.0,), (67.0,), (66.0,), (81.0,), (69.0,), (66.0,), (67.0,), (69.0,), (66.0,), (68.0,), (65.0,), (74.0,), (69.0,), (72.0,), (73.0,), (72.0,), (71.0,), (76.0,), (77.0,), (76.0,), (74.0,), (68.0,), (73.0,), (71.0,), (74.0,), (75.0,), (70.0,), (67.0,), (71.0,), (67.0,), (74.0,), (77.0,), (78.0,), (67.0,), (70.0,), (69.0,), (69.0,), (74.0,), (78.0,), (71.0,), (67.0,), (68.0,), (67.0,), (76.0,), (69.0,), (72.0,), (76.0,), (68.0,), (72.0,), (74.0,), (70.0,), (67.0,), (72.0,), (60.0,), (65.0,), (75.0,), (70.0,), (75.0,), (70.0,), (79.0,), (75.0,), (70.0,), (67.0,), (74.0,), (70.0,), (75.0,), (76.0,), (77.0,), (74.0,), (74.0,), (74.0,), (69.0,), (68.0,), (76.0,), (74.0,), (71.0,), (71.0,), (74.0,), (74.0,), (74.0,), (74.0,), (80.0,), (74.0,), (72.0,), (75.0,), (80.0,), (76.0,), (76.0,), (77.0,), (75.0,), (75.0,), (75.0,), (75.0,), (72.0,), (74.0,), (74.0,), (74.0,), (76.0,), (74.0,), (75.0,), (73.0,), (79.0,), (75.0,), (72.0,), (72.0,), (74.0,), (72.0,), (72.0,), (77.0,), (71.0,), (73.0,), (76.0,), (77.0,), (76.0,), (76.0,), (79.0,), (81.0,), (76.0,), (78.0,), (77.0,), (74.0,), (75.0,), (78.0,), (78.0,), (69.0,), (72.0,), (74.0,), (74.0,), (76.0,), (80.0,), (80.0,), (76.0,), (76.0,), (76.0,), (77.0,), (77.0,), (77.0,), (82.0,), (75.0,), (77.0,), (75.0,), (76.0,), (81.0,), (82.0,), (81.0,), (76.0,), (77.0,), (82.0,), (83.0,), (77.0,), (77.0,), (77.0,), (76.0,), (76.0,), (79.0,)]\n"
     ]
    }
   ],
   "source": [
    "# Choose the station with the highest number of temperature observations.\n",
    "# Query the last 12 months of temperature observation data for this station and plot the results as a histogram\n",
    "results = session.query(Measurement.tobs).\\\n",
    "filter(Measurement.station == 'USC00519281').\\\n",
    "filter(Measurement.date >= prev_year).all()\n",
    "\n",
    "print(results)"
   ]
  },
  {
   "cell_type": "code",
   "execution_count": 16,
   "metadata": {
    "scrolled": false
   },
   "outputs": [
    {
     "name": "stdout",
     "output_type": "stream",
     "text": [
      " tobs\n",
      " 77.0\n",
      " 77.0\n",
      " 80.0\n",
      " 80.0\n",
      " 75.0\n",
      " 73.0\n",
      " 78.0\n",
      " 77.0\n",
      " 78.0\n",
      " 80.0\n",
      " 80.0\n",
      " 78.0\n",
      " 78.0\n",
      " 78.0\n",
      " 73.0\n",
      " 74.0\n",
      " 80.0\n",
      " 79.0\n",
      " 77.0\n",
      " 80.0\n",
      " 76.0\n",
      " 79.0\n",
      " 75.0\n",
      " 79.0\n",
      " 78.0\n",
      " 79.0\n",
      " 78.0\n",
      " 78.0\n",
      " 76.0\n",
      " 74.0\n",
      " 77.0\n",
      " 78.0\n",
      " 79.0\n",
      " 79.0\n",
      " 77.0\n",
      " 80.0\n",
      " 78.0\n",
      " 78.0\n",
      " 78.0\n",
      " 77.0\n",
      " 79.0\n",
      " 79.0\n",
      " 79.0\n",
      " 79.0\n",
      " 75.0\n",
      " 76.0\n",
      " 73.0\n",
      " 72.0\n",
      " 71.0\n",
      " 77.0\n",
      " 79.0\n",
      " 78.0\n",
      " 79.0\n",
      " 77.0\n",
      " 79.0\n",
      " 77.0\n",
      " 78.0\n",
      " 78.0\n",
      " 78.0\n",
      " 78.0\n",
      " 77.0\n",
      " 74.0\n",
      " 75.0\n",
      " 76.0\n",
      " 73.0\n",
      " 76.0\n",
      " 74.0\n",
      " 77.0\n",
      " 76.0\n",
      " 76.0\n",
      " 74.0\n",
      " 75.0\n",
      " 75.0\n",
      " 75.0\n",
      " 75.0\n",
      " 71.0\n",
      " 63.0\n",
      " 70.0\n",
      " 68.0\n",
      " 67.0\n",
      " 77.0\n",
      " 74.0\n",
      " 77.0\n",
      " 76.0\n",
      " 76.0\n",
      " 75.0\n",
      " 76.0\n",
      " 75.0\n",
      " 73.0\n",
      " 75.0\n",
      " 73.0\n",
      " 75.0\n",
      " 74.0\n",
      " 75.0\n",
      " 74.0\n",
      " 75.0\n",
      " 73.0\n",
      " 75.0\n",
      " 73.0\n",
      " 73.0\n",
      " 74.0\n",
      " 70.0\n",
      " 72.0\n",
      " 70.0\n",
      " 67.0\n",
      " 67.0\n",
      " 69.0\n",
      " 70.0\n",
      " 68.0\n",
      " 69.0\n",
      " 69.0\n",
      " 66.0\n",
      " 65.0\n",
      " 68.0\n",
      " 62.0\n",
      " 75.0\n",
      " 70.0\n",
      " 69.0\n",
      " 76.0\n",
      " 76.0\n",
      " 74.0\n",
      " 73.0\n",
      " 71.0\n",
      " 74.0\n",
      " 74.0\n",
      " 72.0\n",
      " 71.0\n",
      " 72.0\n",
      " 74.0\n",
      " 69.0\n",
      " 67.0\n",
      " 72.0\n",
      " 70.0\n",
      " 64.0\n",
      " 63.0\n",
      " 63.0\n",
      " 62.0\n",
      " 70.0\n",
      " 70.0\n",
      " 62.0\n",
      " 62.0\n",
      " 63.0\n",
      " 65.0\n",
      " 69.0\n",
      " 77.0\n",
      " 70.0\n",
      " 74.0\n",
      " 69.0\n",
      " 72.0\n",
      " 71.0\n",
      " 69.0\n",
      " 71.0\n",
      " 71.0\n",
      " 72.0\n",
      " 72.0\n",
      " 69.0\n",
      " 70.0\n",
      " 66.0\n",
      " 65.0\n",
      " 69.0\n",
      " 68.0\n",
      " 68.0\n",
      " 68.0\n",
      " 59.0\n",
      " 60.0\n",
      " 70.0\n",
      " 73.0\n",
      " 75.0\n",
      " 64.0\n",
      " 59.0\n",
      " 59.0\n",
      " 62.0\n",
      " 68.0\n",
      " 70.0\n",
      " 73.0\n",
      " 79.0\n",
      " 75.0\n",
      " 65.0\n",
      " 70.0\n",
      " 74.0\n",
      " 70.0\n",
      " 70.0\n",
      " 71.0\n",
      " 71.0\n",
      " 71.0\n",
      " 69.0\n",
      " 61.0\n",
      " 67.0\n",
      " 65.0\n",
      " 72.0\n",
      " 71.0\n",
      " 73.0\n",
      " 72.0\n",
      " 77.0\n",
      " 73.0\n",
      " 67.0\n",
      " 62.0\n",
      " 64.0\n",
      " 67.0\n",
      " 66.0\n",
      " 81.0\n",
      " 69.0\n",
      " 66.0\n",
      " 67.0\n",
      " 69.0\n",
      " 66.0\n",
      " 68.0\n",
      " 65.0\n",
      " 74.0\n",
      " 69.0\n",
      " 72.0\n",
      " 73.0\n",
      " 72.0\n",
      " 71.0\n",
      " 76.0\n",
      " 77.0\n",
      " 76.0\n",
      " 74.0\n",
      " 68.0\n",
      " 73.0\n",
      " 71.0\n",
      " 74.0\n",
      " 75.0\n",
      " 70.0\n",
      " 67.0\n",
      " 71.0\n",
      " 67.0\n",
      " 74.0\n",
      " 77.0\n",
      " 78.0\n",
      " 67.0\n",
      " 70.0\n",
      " 69.0\n",
      " 69.0\n",
      " 74.0\n",
      " 78.0\n",
      " 71.0\n",
      " 67.0\n",
      " 68.0\n",
      " 67.0\n",
      " 76.0\n",
      " 69.0\n",
      " 72.0\n",
      " 76.0\n",
      " 68.0\n",
      " 72.0\n",
      " 74.0\n",
      " 70.0\n",
      " 67.0\n",
      " 72.0\n",
      " 60.0\n",
      " 65.0\n",
      " 75.0\n",
      " 70.0\n",
      " 75.0\n",
      " 70.0\n",
      " 79.0\n",
      " 75.0\n",
      " 70.0\n",
      " 67.0\n",
      " 74.0\n",
      " 70.0\n",
      " 75.0\n",
      " 76.0\n",
      " 77.0\n",
      " 74.0\n",
      " 74.0\n",
      " 74.0\n",
      " 69.0\n",
      " 68.0\n",
      " 76.0\n",
      " 74.0\n",
      " 71.0\n",
      " 71.0\n",
      " 74.0\n",
      " 74.0\n",
      " 74.0\n",
      " 74.0\n",
      " 80.0\n",
      " 74.0\n",
      " 72.0\n",
      " 75.0\n",
      " 80.0\n",
      " 76.0\n",
      " 76.0\n",
      " 77.0\n",
      " 75.0\n",
      " 75.0\n",
      " 75.0\n",
      " 75.0\n",
      " 72.0\n",
      " 74.0\n",
      " 74.0\n",
      " 74.0\n",
      " 76.0\n",
      " 74.0\n",
      " 75.0\n",
      " 73.0\n",
      " 79.0\n",
      " 75.0\n",
      " 72.0\n",
      " 72.0\n",
      " 74.0\n",
      " 72.0\n",
      " 72.0\n",
      " 77.0\n",
      " 71.0\n",
      " 73.0\n",
      " 76.0\n",
      " 77.0\n",
      " 76.0\n",
      " 76.0\n",
      " 79.0\n",
      " 81.0\n",
      " 76.0\n",
      " 78.0\n",
      " 77.0\n",
      " 74.0\n",
      " 75.0\n",
      " 78.0\n",
      " 78.0\n",
      " 69.0\n",
      " 72.0\n",
      " 74.0\n",
      " 74.0\n",
      " 76.0\n",
      " 80.0\n",
      " 80.0\n",
      " 76.0\n",
      " 76.0\n",
      " 76.0\n",
      " 77.0\n",
      " 77.0\n",
      " 77.0\n",
      " 82.0\n",
      " 75.0\n",
      " 77.0\n",
      " 75.0\n",
      " 76.0\n",
      " 81.0\n",
      " 82.0\n",
      " 81.0\n",
      " 76.0\n",
      " 77.0\n",
      " 82.0\n",
      " 83.0\n",
      " 77.0\n",
      " 77.0\n",
      " 77.0\n",
      " 76.0\n",
      " 76.0\n",
      " 79.0\n"
     ]
    }
   ],
   "source": [
    "# Convert the results to a DataFrame\n",
    "df = pd.DataFrame(results, columns=['tobs'],)\n",
    "print(df.to_string(index=False))"
   ]
  },
  {
   "cell_type": "code",
   "execution_count": 17,
   "metadata": {
    "scrolled": true
   },
   "outputs": [
    {
     "data": {
      "image/png": "[encoded data removed]",
      "text/plain": [
       "<Figure size 432x288 with 1 Axes>"
      ]
     },
     "metadata": {},
     "output_type": "display_data"
    }
   ],
   "source": [
    "# Plot a histogram of the temperature observations\n",
    "df.plot.hist(bins=12)\n",
    "\n",
    "# Using plt.tight_layout(), we can compress the x-axis labels so that they fit into the box holding our plot\n",
    "plt.tight_layout()\n"
   ]
  },
  {
   "cell_type": "markdown",
   "metadata": {},
   "source": [
    "SKILL DRILL\n",
    "\n",
    "Adjust the number of bins in the plot to 5, and then adjust the number to 20. Take note of any differences in the plot caused by changing the number of bins."
   ]
  },
  {
   "cell_type": "code",
   "execution_count": 18,
   "metadata": {
    "scrolled": true
   },
   "outputs": [
    {
     "data": {
      "image/png": "[encoded data removed]",
      "text/plain": [
       "<Figure size 432x288 with 1 Axes>"
      ]
     },
     "metadata": {},
     "output_type": "display_data"
    }
   ],
   "source": [
    "# Adjust the number of bins in the plot to 5\n",
    "# Plot a histogram of the temperature observations\n",
    "df.plot.hist(bins=5)\n",
    "\n",
    "# Using plt.tight_layout(), we can compress the x-axis labels so that they fit into the box holding our plot\n",
    "plt.tight_layout()"
   ]
  },
  {
   "cell_type": "code",
   "execution_count": 19,
   "metadata": {
    "scrolled": true
   },
   "outputs": [
    {
     "data": {
      "image/png": "[encoded data removed]",
      "text/plain": [
       "<Figure size 432x288 with 1 Axes>"
      ]
     },
     "metadata": {},
     "output_type": "display_data"
    }
   ],
   "source": [
    "# Adjust the number of bins in the plot to 20\n",
    "# Plot a histogram of the temperature observations\n",
    "df.plot.hist(bins=20)\n",
    "\n",
    "# Using plt.tight_layout(), we can compress the x-axis labels so that they fit into the box holding our plot\n",
    "plt.tight_layout()"
   ]
  },
  {
   "cell_type": "code",
   "execution_count": 20,
   "metadata": {
    "scrolled": true
   },
   "outputs": [],
   "source": [
    "# get_date_from_string\n",
    "# ====================\n",
    "# This function returns the date object that corresponds to the passed-in date_str and dt_format\n",
    "# arguments.\n",
    "#\n",
    "# Parameters:\n",
    "# - date_str - the string containing the date value to be processed\n",
    "# - dt_format - the format to which the date_str is to conform\n",
    "def get_date_from_string(date_str,dt_format):\n",
    "    dt_obj = dt.datetime.strptime(date_str,dt_format)\n",
    "    year,month,day = dt_obj.year,dt_obj.month,dt_obj.day\n",
    "    return dt.datetime(year,month,day)"
   ]
  },
  {
   "cell_type": "code",
   "execution_count": 21,
   "metadata": {
    "scrolled": true
   },
   "outputs": [
    {
     "data": {
      "text/html": [
       "<div>\n",
       "<style scoped>\n",
       "    .dataframe tbody tr th:only-of-type {\n",
       "        vertical-align: middle;\n",
       "    }\n",
       "\n",
       "    .dataframe tbody tr th {\n",
       "        vertical-align: top;\n",
       "    }\n",
       "\n",
       "    .dataframe thead th {\n",
       "        text-align: right;\n",
       "    }\n",
       "</style>\n",
       "<table border=\"1\" class=\"dataframe\">\n",
       "  <thead>\n",
       "    <tr style=\"text-align: right;\">\n",
       "      <th></th>\n",
       "      <th>tobs</th>\n",
       "    </tr>\n",
       "  </thead>\n",
       "  <tbody>\n",
       "    <tr>\n",
       "      <th>count</th>\n",
       "      <td>4757.000000</td>\n",
       "    </tr>\n",
       "    <tr>\n",
       "      <th>mean</th>\n",
       "      <td>73.922010</td>\n",
       "    </tr>\n",
       "    <tr>\n",
       "      <th>std</th>\n",
       "      <td>4.878595</td>\n",
       "    </tr>\n",
       "    <tr>\n",
       "      <th>min</th>\n",
       "      <td>56.000000</td>\n",
       "    </tr>\n",
       "    <tr>\n",
       "      <th>25%</th>\n",
       "      <td>71.000000</td>\n",
       "    </tr>\n",
       "    <tr>\n",
       "      <th>50%</th>\n",
       "      <td>75.000000</td>\n",
       "    </tr>\n",
       "    <tr>\n",
       "      <th>75%</th>\n",
       "      <td>78.000000</td>\n",
       "    </tr>\n",
       "    <tr>\n",
       "      <th>max</th>\n",
       "      <td>86.000000</td>\n",
       "    </tr>\n",
       "  </tbody>\n",
       "</table>\n",
       "</div>"
      ],
      "text/plain": [
       "              tobs\n",
       "count  4757.000000\n",
       "mean     73.922010\n",
       "std       4.878595\n",
       "min      56.000000\n",
       "25%      71.000000\n",
       "50%      75.000000\n",
       "75%      78.000000\n",
       "max      86.000000"
      ]
     },
     "execution_count": 21,
     "metadata": {},
     "output_type": "execute_result"
    }
   ],
   "source": [
    "# Write a function called `calc_temps` that will accept start date and end date in the format '%Y-%m-%d' \n",
    "# and return the minimum, average, and maximum temperatures for that range of dates\n",
    "\n",
    "# calc_temps\n",
    "# ==========\n",
    "# This function returns the summary stats, including minimum, average, and maximum values of \n",
    "# the temperature column for the data bracketed by start_date and end_date\n",
    "#\n",
    "# Arguments:\n",
    "# - start_date - the date at which to start retrieving the temperature data\n",
    "# - end_date - the date at which to end retrieving the temperature data\n",
    "#\n",
    "# Return:\n",
    "# A dataframe of the summary calcs for the temperature column values brackets by the specified\n",
    "# start and end dates\n",
    "\n",
    "def calc_temps(start_date,end_date):\n",
    "    # Make sure that the passed arguments are strings. Otherwise, raise an exception\n",
    "    if type(start_date) != str or type(end_date) != str:\n",
    "        raise ValueError(\"Invalid parameter(s)\")\n",
    "    else:\n",
    "        # get the datetime object from the start_date argument\n",
    "        start_date = get_date_from_string(start_date,'%Y-%m-%d')\n",
    "        # get the datetime object from the end_date argument\n",
    "        end_date = get_date_from_string(end_date,'%Y-%m-%d')\n",
    "     \n",
    "        # retrieve the temperature data for the period starting at start_date and ending at end_date\n",
    "        results = session.query(Measurement.date,Measurement.tobs).\\\n",
    "            filter(Measurement.date >= start_date).\\\n",
    "            filter(Measurement.date <= end_date).\\\n",
    "            order_by(Measurement.date).all()\n",
    "        \n",
    "        # Create a dataframe from the results\n",
    "        df = pd.DataFrame(results,columns=[\"date\",\"tobs\"])\n",
    "        \n",
    "        # return the summary stats for the collected temperature data\n",
    "        return df.describe()\n",
    "        \n",
    "calc_temps(\"2014-12-15\",\"2016-12-18\")"
   ]
  },
  {
   "cell_type": "markdown",
   "metadata": {},
   "source": [
    "# Challenge"
   ]
  },
  {
   "cell_type": "code",
   "execution_count": 22,
   "metadata": {
    "scrolled": true
   },
   "outputs": [],
   "source": [
    "# get_month_data\n",
    "# ==============\n",
    "# This function returns the precipitation and temperature readings for the month that is specified in m, the passed-in argument.\n",
    "# \n",
    "# Parameters:\n",
    "# m - the month for which data is required. Can be int (1-12) or str starting with (\"jan\" - \"dec\")\n",
    "#\n",
    "# Return:\n",
    "# The data for the request month in a dataframe\n",
    "#\n",
    "# Exceptions:\n",
    "# ValueError - if paramter m is an integer with values other than 1 to 12 or a string which does not start with one of \"jan\" to \n",
    "#              \"dec\".\n",
    "\n",
    "def get_month_data(m):\n",
    "    \n",
    "    # The months dictionary used to translate string values of month to string numbers \"01\" to \"12\"\n",
    "    months = {  \"jan\":\"01\",\n",
    "                \"feb\":\"02\",\n",
    "                \"mar\":\"03\",\n",
    "                \"apr\":\"04\",\n",
    "                \"may\":\"05\",\n",
    "                \"jun\":\"06\",\n",
    "                \"jul\":\"07\",\n",
    "                \"aug\":\"08\",\n",
    "                \"sep\":\"09\",\n",
    "                \"oct\":\"10\",\n",
    "                \"nov\":\"11\",\n",
    "                \"dec\":\"12\"\n",
    "            }\n",
    "    \n",
    "    # If the passed-in paramter, m, is a string, check if the substring composed of its first three letters is  \n",
    "    # one of the months in the months dictionary\n",
    "    if (type(m) == str):\n",
    "        for month in months:\n",
    "            # if a match is found, return value corresponding to month key eg/ for \"jan\", return \"01\"\n",
    "            if month == m.lower()[0:3]:\n",
    "                monstr = months[month]\n",
    "                break\n",
    "        else:\n",
    "            # if no match is found, raise an exception\n",
    "            raise ValueError(\"Invalid month name\")\n",
    "    # If, however, the parameter is an int,  check if it is between 1 and 12       \n",
    "    elif (type(m) == int):\n",
    "        # If m is not between 1 and 12, raise an exception\n",
    "        if ( m > 12 or m < 1):\n",
    "            raise ValueError(\"Invalid month number\")\n",
    "        else:\n",
    "        # return the corresponding string number, eg/ 1 returns \"01\"\n",
    "            monstr = list(months.values())[m-1]\n",
    "    else:\n",
    "    # If the parameter is neither a string nor an int, raise an exception\n",
    "        raise ValueError(f\"Invalid argument: {type(m)}. Expecting <str> or <int>.\") \n",
    "\n",
    "    # return a dataframe composed of four columns: station, date, prcp, and tobs, from the Measurements table\n",
    "    # filtered for the requested month and sorted by date\n",
    "    return session.query(Measurement.station,Measurement.date,Measurement.prcp,Measurement.tobs).\\\n",
    "            filter(Measurement.date.like(f'%-{monstr}-%')).order_by(Measurement.date).all()"
   ]
  },
  {
   "cell_type": "code",
   "execution_count": 23,
   "metadata": {
    "scrolled": true
   },
   "outputs": [],
   "source": [
    "# plot\n",
    "# ====\n",
    "# This functin plots an overlayed bar graph of the june and december statistical measurements side-by-side\n",
    "#\n",
    "# Parameters:\n",
    "# df - the dataframe containing the values to be plotted\n",
    "# x_col - the name of the dataframe column for the first bar graph\n",
    "# x_label - the label to use in the legend for the first bar graph\n",
    "# y_col - the name of the dataframe column for the second (overlayed) bar graph\n",
    "# y_label - the label to use in the legend for the second (overlayed) bar graph\n",
    "# title - the title to use for the bar graph\n",
    "# bar_width - the width of the plotted bars\n",
    "\n",
    "def plot(df,x_col,x_legend,y_col,y_legend,y_label,title,bar_width=0.45):\n",
    "    # Instantion a figure object and an axis object for a plot of size 20 x 10\n",
    "    fig, ax = plt.subplots(figsize=(20, 10))\n",
    "    # Instantiate the list of locations for the june bars\n",
    "    june_locs = [x for x in range(len(df))]\n",
    "    # Instantiate the lost of locations for the dec bars (0.45\" to the right of the corresponding june bars)\n",
    "    dec_locs = [(x+bar_width) for x in june_locs]\n",
    "    # Instantiate the locations of the bar (measure) labels \n",
    "    xtick_locs = [(x+bar_width/2) for x in june_locs]\n",
    "    # Plot the bar graph for the june measurements\n",
    "    june = ax.bar(june_locs, df[x_col],label=x_legend,width=bar_width)\n",
    "    # Overlay the bar graph for the december measurements\n",
    "    dec = ax.bar(dec_locs, df[y_col], label=y_legend,width=bar_width)\n",
    "    # Add the measure labels at the locations specified by xtick_locs\n",
    "    plt.xticks(xtick_locs, df.measure)\n",
    "    # Display the legend\n",
    "    ax.legend()\n",
    "    # Display the title\n",
    "    plt.title(title)\n",
    "    # Display the label of the x-axis\n",
    "    plt.xlabel(\"stat measure\")\n",
    "    # Display the label of the y-axis\n",
    "    plt.ylabel(y_label)\n",
    "    # Save a copy of the graph to the project folder\n",
    "    plt.savefig(f\"{title}.png\")\n",
    "    plt.show()"
   ]
  },
  {
   "cell_type": "code",
   "execution_count": 24,
   "metadata": {
    "scrolled": true
   },
   "outputs": [],
   "source": [
    "# transform_df\n",
    "# ===========\n",
    "# This function reconfigures the passed in dataframe in order to facilitate the plotting of spaced-out bar graphs. \n",
    "# The changes are as follows:\n",
    "# - the current index is reset\n",
    "# - the non-numeric 'index' column is renamed to new_name\n",
    "# - a numerical column, 'id', is added to the dataframe\n",
    "# - the 'id' column is set to the index of the passed in dataframe\n",
    "\n",
    "def transform_df(df,new_name):\n",
    "    # Reset the current index\n",
    "    df.reset_index(inplace=True)\n",
    "    # Rename the 'index' column with the parameter 'new_name'\n",
    "    df.rename(columns={\"index\":new_name},inplace=True)\n",
    "    # get list of the values in the 'index' column\n",
    "    lst = list(df.index)\n",
    "    # create a list of integers the same length as the 'index' column\n",
    "    ind_col = [x for x in range(len(lst))]\n",
    "    # create a new column,'id', in the passed in dataframe\n",
    "    df[\"id\"] = ind_col\n",
    "    # set the index of the passed in dataframe to the new 'id' column\n",
    "    df.set_index(\"id\",inplace=True)"
   ]
  },
  {
   "cell_type": "code",
   "execution_count": 25,
   "metadata": {
    "scrolled": true
   },
   "outputs": [],
   "source": [
    "# Determine key statistical data about the month of June. \n",
    "june_data = get_month_data(\"june\")\n",
    "\n",
    "# create dataframe june_df composed of the june precipitation and temperature measures \n",
    "june_df = pd.DataFrame(june_data)\n",
    "\n",
    "# capture the statistical information for the june data in the june_desc dataframe\n",
    "june_desc = june_df.describe()"
   ]
  },
  {
   "cell_type": "code",
   "execution_count": 26,
   "metadata": {
    "scrolled": true
   },
   "outputs": [],
   "source": [
    "# Determine key statistical data about the month of December.\n",
    "dec_data = get_month_data(\"december\")\n",
    "\n",
    "# create dataframe dec_df composed of the december precipitation and temperature measures \n",
    "dec_df = pd.DataFrame(dec_data)\n",
    "\n",
    "# capture the statistical information for the december data in the dec_desc dataframe\n",
    "dec_desc = dec_df.describe()"
   ]
  },
  {
   "cell_type": "code",
   "execution_count": 27,
   "metadata": {
    "scrolled": true
   },
   "outputs": [],
   "source": [
    "# Precipitation\n",
    "# Create the jun_dec_prcp dataframe, composed on two columns, june_prcp, the june precipitation stats, and dec_prcp, the \n",
    "# december precipitation stats\n",
    "\n",
    "jun_dec_prcp = pd.DataFrame({\"june_prcp\":june_desc['prcp'],\"dec_prcp\":dec_desc['prcp']})"
   ]
  },
  {
   "cell_type": "code",
   "execution_count": 28,
   "metadata": {
    "scrolled": true
   },
   "outputs": [
    {
     "data": {
      "text/html": [
       "<div>\n",
       "<style scoped>\n",
       "    .dataframe tbody tr th:only-of-type {\n",
       "        vertical-align: middle;\n",
       "    }\n",
       "\n",
       "    .dataframe tbody tr th {\n",
       "        vertical-align: top;\n",
       "    }\n",
       "\n",
       "    .dataframe thead th {\n",
       "        text-align: right;\n",
       "    }\n",
       "</style>\n",
       "<table border=\"1\" class=\"dataframe\">\n",
       "  <thead>\n",
       "    <tr style=\"text-align: right;\">\n",
       "      <th></th>\n",
       "      <th>measure</th>\n",
       "      <th>june_prcp</th>\n",
       "      <th>dec_prcp</th>\n",
       "    </tr>\n",
       "    <tr>\n",
       "      <th>id</th>\n",
       "      <th></th>\n",
       "      <th></th>\n",
       "      <th></th>\n",
       "    </tr>\n",
       "  </thead>\n",
       "  <tbody>\n",
       "    <tr>\n",
       "      <th>0</th>\n",
       "      <td>count</td>\n",
       "      <td>1574.000000</td>\n",
       "      <td>1405.000000</td>\n",
       "    </tr>\n",
       "    <tr>\n",
       "      <th>1</th>\n",
       "      <td>mean</td>\n",
       "      <td>0.136360</td>\n",
       "      <td>0.216819</td>\n",
       "    </tr>\n",
       "    <tr>\n",
       "      <th>2</th>\n",
       "      <td>std</td>\n",
       "      <td>0.335731</td>\n",
       "      <td>0.541399</td>\n",
       "    </tr>\n",
       "    <tr>\n",
       "      <th>3</th>\n",
       "      <td>min</td>\n",
       "      <td>0.000000</td>\n",
       "      <td>0.000000</td>\n",
       "    </tr>\n",
       "    <tr>\n",
       "      <th>4</th>\n",
       "      <td>25%</td>\n",
       "      <td>0.000000</td>\n",
       "      <td>0.000000</td>\n",
       "    </tr>\n",
       "    <tr>\n",
       "      <th>5</th>\n",
       "      <td>50%</td>\n",
       "      <td>0.020000</td>\n",
       "      <td>0.030000</td>\n",
       "    </tr>\n",
       "    <tr>\n",
       "      <th>6</th>\n",
       "      <td>75%</td>\n",
       "      <td>0.120000</td>\n",
       "      <td>0.150000</td>\n",
       "    </tr>\n",
       "    <tr>\n",
       "      <th>7</th>\n",
       "      <td>max</td>\n",
       "      <td>4.430000</td>\n",
       "      <td>6.420000</td>\n",
       "    </tr>\n",
       "  </tbody>\n",
       "</table>\n",
       "</div>"
      ],
      "text/plain": [
       "   measure    june_prcp     dec_prcp\n",
       "id                                  \n",
       "0    count  1574.000000  1405.000000\n",
       "1     mean     0.136360     0.216819\n",
       "2      std     0.335731     0.541399\n",
       "3      min     0.000000     0.000000\n",
       "4      25%     0.000000     0.000000\n",
       "5      50%     0.020000     0.030000\n",
       "6      75%     0.120000     0.150000\n",
       "7      max     4.430000     6.420000"
      ]
     },
     "execution_count": 28,
     "metadata": {},
     "output_type": "execute_result"
    }
   ],
   "source": [
    "# Call transform_df on the jun_dec_prcp, with the string argument, 'measure', to ranem the current index column, and create\n",
    "# a numeric index, 'id', to use when plotting the bar graphs\n",
    "transform_df(jun_dec_prcp,\"measure\")\n",
    "jun_dec_prcp"
   ]
  },
  {
   "cell_type": "code",
   "execution_count": 29,
   "metadata": {
    "scrolled": true
   },
   "outputs": [
    {
     "data": {
      "image/png": "[encoded data removed]",
      "text/plain": [
       "<Figure size 1440x720 with 1 Axes>"
      ]
     },
     "metadata": {},
     "output_type": "display_data"
    }
   ],
   "source": [
    "# Plot the precipitation stats bar graph\n",
    "plot(df=jun_dec_prcp[jun_dec_prcp[\"measure\"]!=\"count\"],x_col=\"june_prcp\",x_legend=\"june\",y_col=\"dec_prcp\",\n",
    "     y_legend=\"december\",y_label=\"Precipitation Stats (inches)\",title=\"Precipitation\")"
   ]
  },
  {
   "cell_type": "code",
   "execution_count": 30,
   "metadata": {
    "scrolled": true
   },
   "outputs": [],
   "source": [
    "# Temperature\n",
    "# Create the jun_dec_tobs dataframe, composed on two columns, june_tobs, the june temperature stats, and dec_tobs, the \n",
    "# december temperature stats\n",
    "jun_dec_tobs = pd.DataFrame({\"june_tobs\":june_desc['tobs'],\"dec_tobs\":dec_desc['tobs']})"
   ]
  },
  {
   "cell_type": "code",
   "execution_count": 31,
   "metadata": {
    "scrolled": true
   },
   "outputs": [
    {
     "data": {
      "text/html": [
       "<div>\n",
       "<style scoped>\n",
       "    .dataframe tbody tr th:only-of-type {\n",
       "        vertical-align: middle;\n",
       "    }\n",
       "\n",
       "    .dataframe tbody tr th {\n",
       "        vertical-align: top;\n",
       "    }\n",
       "\n",
       "    .dataframe thead th {\n",
       "        text-align: right;\n",
       "    }\n",
       "</style>\n",
       "<table border=\"1\" class=\"dataframe\">\n",
       "  <thead>\n",
       "    <tr style=\"text-align: right;\">\n",
       "      <th></th>\n",
       "      <th>measure</th>\n",
       "      <th>june_tobs</th>\n",
       "      <th>dec_tobs</th>\n",
       "    </tr>\n",
       "    <tr>\n",
       "      <th>id</th>\n",
       "      <th></th>\n",
       "      <th></th>\n",
       "      <th></th>\n",
       "    </tr>\n",
       "  </thead>\n",
       "  <tbody>\n",
       "    <tr>\n",
       "      <th>0</th>\n",
       "      <td>count</td>\n",
       "      <td>1700.000000</td>\n",
       "      <td>1517.000000</td>\n",
       "    </tr>\n",
       "    <tr>\n",
       "      <th>1</th>\n",
       "      <td>mean</td>\n",
       "      <td>74.944118</td>\n",
       "      <td>71.041529</td>\n",
       "    </tr>\n",
       "    <tr>\n",
       "      <th>2</th>\n",
       "      <td>std</td>\n",
       "      <td>3.257417</td>\n",
       "      <td>3.745920</td>\n",
       "    </tr>\n",
       "    <tr>\n",
       "      <th>3</th>\n",
       "      <td>min</td>\n",
       "      <td>64.000000</td>\n",
       "      <td>56.000000</td>\n",
       "    </tr>\n",
       "    <tr>\n",
       "      <th>4</th>\n",
       "      <td>25%</td>\n",
       "      <td>73.000000</td>\n",
       "      <td>69.000000</td>\n",
       "    </tr>\n",
       "    <tr>\n",
       "      <th>5</th>\n",
       "      <td>50%</td>\n",
       "      <td>75.000000</td>\n",
       "      <td>71.000000</td>\n",
       "    </tr>\n",
       "    <tr>\n",
       "      <th>6</th>\n",
       "      <td>75%</td>\n",
       "      <td>77.000000</td>\n",
       "      <td>74.000000</td>\n",
       "    </tr>\n",
       "    <tr>\n",
       "      <th>7</th>\n",
       "      <td>max</td>\n",
       "      <td>85.000000</td>\n",
       "      <td>83.000000</td>\n",
       "    </tr>\n",
       "  </tbody>\n",
       "</table>\n",
       "</div>"
      ],
      "text/plain": [
       "   measure    june_tobs     dec_tobs\n",
       "id                                  \n",
       "0    count  1700.000000  1517.000000\n",
       "1     mean    74.944118    71.041529\n",
       "2      std     3.257417     3.745920\n",
       "3      min    64.000000    56.000000\n",
       "4      25%    73.000000    69.000000\n",
       "5      50%    75.000000    71.000000\n",
       "6      75%    77.000000    74.000000\n",
       "7      max    85.000000    83.000000"
      ]
     },
     "execution_count": 31,
     "metadata": {},
     "output_type": "execute_result"
    }
   ],
   "source": [
    "# Call transform_df on the jun_dec_tobs, with the string argument, 'measure', to ranem the current index column, and create\n",
    "# a numeric index, 'id', to use when plotting the bar graphs\n",
    "transform_df(jun_dec_tobs,\"measure\")\n",
    "jun_dec_tobs"
   ]
  },
  {
   "cell_type": "code",
   "execution_count": 32,
   "metadata": {
    "scrolled": false
   },
   "outputs": [
    {
     "data": {
      "image/png": "[encoded data removed]",
      "text/plain": [
       "<Figure size 1440x720 with 1 Axes>"
      ]
     },
     "metadata": {},
     "output_type": "display_data"
    }
   ],
   "source": [
    "# Plot the temperature stats bar graph\n",
    "plot(jun_dec_tobs[jun_dec_tobs[\"measure\"]!=\"count\"],x_col=\"june_tobs\",x_legend=\"june\",\n",
    "     y_col=\"dec_tobs\",y_legend=\"december\",y_label=\"Temperature Stats (°F)\",title=\"Temperature\")"
   ]
  }
 ],
 "metadata": {
  "kernelspec": {
   "display_name": "Python 3",
   "language": "python",
   "name": "python3"
  },
  "language_info": {
   "codemirror_mode": {
    "name": "ipython",
    "version": 3
   },
   "file_extension": ".py",
   "mimetype": "text/x-python",
   "name": "python",
   "nbconvert_exporter": "python",
   "pygments_lexer": "ipython3",
   "version": "3.8.3"
  }
 },
 "nbformat": 4,
 "nbformat_minor": 2
}
